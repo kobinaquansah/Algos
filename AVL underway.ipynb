{
 "cells": [
  {
   "cell_type": "markdown",
   "metadata": {},
   "source": [
    "Create class bst_start_node which will serve as root node"
   ]
  },
  {
   "cell_type": "code",
   "execution_count": null,
   "metadata": {},
   "outputs": [],
   "source": [
    "class bst_start_node:\n",
    "    def __init__(self, value, name, l_node, r_node, i_node, n_sub):\n",
    "        self.value  = value\n",
    "        self.name   = name\n",
    "        self.l_node = l_node\n",
    "        self.r_node = r_node\n",
    "        self.i_node = i_node\n",
    "        self.n_sub  = n_sub"
   ]
  },
  {
   "cell_type": "markdown",
   "metadata": {},
   "source": [
    "Create class bst_node which will serve as class for all subtrees"
   ]
  },
  {
   "cell_type": "code",
   "execution_count": null,
   "metadata": {},
   "outputs": [],
   "source": [
    "class bst_node:\n",
    "    def __init__(self, value, p_node,l_node, r_node,n_sub):\n",
    "        self.value  = value\n",
    "        self.p_node = p_node\n",
    "        self.l_node = l_node\n",
    "        self.r_node = r_node\n",
    "        self.n_sub  = n_sub"
   ]
  },
  {
   "cell_type": "code",
   "execution_count": null,
   "metadata": {},
   "outputs": [],
   "source": [
    "def start_tree(value, name):\n",
    "        global new_node\n",
    "        name = eval('name')\n",
    "        new_node_name = eval('name+str(1)')\n",
    "        new_node = bst_start_node (eval('value'), new_node_name, None , None, 1, 0)\n",
    "        exec(str(new_node_name) + '=new_node', globals())\n",
    "        print('tree '+str(new_node_name)[0] +' planted at memory position '+ str(eval('new_node')))\n",
    "        del new_node"
   ]
  },
  {
   "cell_type": "markdown",
   "metadata": {},
   "source": [
    "Create function bst_insert_ which will be fed by bst_insert without changing i_node"
   ]
  },
  {
   "cell_type": "code",
   "execution_count": 4,
   "metadata": {},
   "outputs": [],
   "source": [
    "def bst_insert_(value,name,i_node):\n",
    "    try:\n",
    "        eval((eval('name') + str(1)))\n",
    "    except NameError:\n",
    "        start_tree(value,name)\n",
    "    else:\n",
    "        try:\n",
    "            eval((eval('name') + str(1)))\n",
    "            if (i_node==1):\n",
    "                global p_node\n",
    "                global new_node\n",
    "                global new_node_value\n",
    "                global kind\n",
    "                global subtree\n",
    "                global spec\n",
    "                p_node=eval(eval('name') + str(1))\n",
    "                spec=p_node\n",
    "                i_node=0\n",
    "                \n",
    "            if((spec)!=None):\n",
    "                if(value>spec.value):\n",
    "                    if (spec.r_node==None):\n",
    "                        p_node=spec\n",
    "                        spec=spec.r_node\n",
    "                        kind=1\n",
    "                        bst_insert_(value,name,i_node)\n",
    "                    else:\n",
    "                        p_node=spec\n",
    "                        spec=spec.r_node\n",
    "                        bst_insert_(value,name,i_node)\n",
    "                elif(value<spec.value):\n",
    "                    if (spec.l_node==None):\n",
    "                        p_node=spec\n",
    "                        spec=spec.l_node\n",
    "                        kind=0\n",
    "                        bst_insert_(value,name,i_node)\n",
    "                    else:\n",
    "                        p_node=spec\n",
    "                        spec=spec.l_node\n",
    "                        bst_insert_(value,name,i_node)\n",
    "            if(spec==None):\n",
    "                return_value(value,p_node,spec)\n",
    "        except:\n",
    "            None"
   ]
  },
  {
   "cell_type": "code",
   "execution_count": 5,
   "metadata": {},
   "outputs": [],
   "source": [
    "def return_value(value,p_node,spec):\n",
    "    spec=bst_node(value, p_node,None, None,0)\n",
    "    \n",
    "    if (kind==1):\n",
    "        spec.p_node.r_node=spec\n",
    "        n_sub_up(spec)\n",
    "    \n",
    "    if (kind==0):\n",
    "        spec.p_node.l_node=spec\n",
    "        n_sub_up(spec)\n",
    "    \n",
    "    print(spec.value)"
   ]
  },
  {
   "cell_type": "markdown",
   "metadata": {},
   "source": [
    "Create function bst_insert() to feed bst_insert_()"
   ]
  },
  {
   "cell_type": "code",
   "execution_count": 6,
   "metadata": {},
   "outputs": [],
   "source": [
    "def bst_insert(value, name):\n",
    "    i_node=1\n",
    "    bst_insert_(value, name, i_node)"
   ]
  },
  {
   "cell_type": "code",
   "execution_count": 11,
   "metadata": {},
   "outputs": [],
   "source": [
    "liset=[53,79,2,0,26,8,1,6,7,68,6,1,9,1,59,1,72,3,98,62,66,79,22,34,92,15,4,6,1,31,55954,1,498561,6874,-50,-100,-1000]\n",
    "for i in range (0,len(liset)):\n",
    "    bst_insert(liset[i],'a')"
   ]
  },
  {
   "cell_type": "code",
   "execution_count": 12,
   "metadata": {},
   "outputs": [],
   "source": [
    "def bst_search(value, name):\n",
    "    i_node=1\n",
    "    bst_search_(value, name, i_node)"
   ]
  },
  {
   "cell_type": "code",
   "execution_count": 13,
   "metadata": {},
   "outputs": [],
   "source": [
    "def n_sub_up(spec):\n",
    "    try:\n",
    "        spec.p_node\n",
    "        if (spec.p_node.r_node==spec):\n",
    "            \n",
    "            if (spec.p_node.l_node!=None):\n",
    "                spec.p_node.n_sub=max(spec.p_node.l_node.n_sub,spec.p_node.r_node.n_sub)+1\n",
    "                spec=spec.p_node\n",
    "                n_sub_up(spec)\n",
    "            \n",
    "            else:\n",
    "                spec.p_node.n_sub=spec.p_node.r_node.n_sub+1\n",
    "                spec=spec.p_node\n",
    "                n_sub_up(spec)\n",
    "        \n",
    "        if (spec.p_node.l_node==spec):\n",
    "            \n",
    "            if (spec.p_node.r_node!=None):\n",
    "                spec.p_node.n_sub=max(spec.p_node.l_node.n_sub,spec.p_node.r_node.n_sub)+1\n",
    "                spec=spec.p_node\n",
    "                n_sub_up(spec)\n",
    "            \n",
    "            else:\n",
    "                spec.p_node.n_sub=spec.p_node.l_node.n_sub+1\n",
    "                spec=spec.p_node\n",
    "                n_sub_up(spec)\n",
    "    except:\n",
    "        None"
   ]
  },
  {
   "cell_type": "markdown",
   "metadata": {},
   "source": [
    "Search Implementation"
   ]
  },
  {
   "cell_type": "code",
   "execution_count": 14,
   "metadata": {},
   "outputs": [],
   "source": [
    "def bst_find(value,name,i_node):\n",
    "    global a\n",
    "    if (i_node==0):\n",
    "        global p_node\n",
    "        global new_node\n",
    "        global new_node_value\n",
    "        global spec\n",
    "        p_node=1\n",
    "        i_node=1\n",
    "        spec = eval((eval('name')+str(i_node)))\n",
    "        print(spec.value)\n",
    "        bst_find(value,name,i_node)\n",
    "    else:\n",
    "        #input value > ax?\n",
    "        if (spec == None):\n",
    "            print('not here')\n",
    "        else:\n",
    "            if spec!=None:\n",
    "                if (value> spec.value):\n",
    "                    i_node=i_node*2+1\n",
    "                    print('g')\n",
    "                    spec=spec.r_node\n",
    "                    bst_find (value,name,i_node)\n",
    "            if spec!=None:\n",
    "                if (value< spec.value):\n",
    "                    i_node=i_node*2\n",
    "                    print('l')\n",
    "                    spec=spec.l_node\n",
    "                    bst_find (value,name,i_node)\n",
    "            if spec!=None:\n",
    "                if (value==spec.value):\n",
    "                    i_node = i_node    \n",
    "                    print(i_node)"
   ]
  },
  {
   "cell_type": "code",
   "execution_count": 15,
   "metadata": {},
   "outputs": [],
   "source": [
    "def return_null():\n",
    "    print('not here')"
   ]
  },
  {
   "cell_type": "code",
   "execution_count": 16,
   "metadata": {},
   "outputs": [
    {
     "name": "stdout",
     "output_type": "stream",
     "text": [
      "53\n",
      "l\n",
      "g\n",
      "5\n",
      "5\n",
      "2\n"
     ]
    }
   ],
   "source": [
    "def bst_search(value, name):\n",
    "    i_node=0\n",
    "    bst_find(value,name,i_node)\n",
    "bst_search(26,'a')"
   ]
  },
  {
   "cell_type": "markdown",
   "metadata": {},
   "source": [
    "Summarized Implementation"
   ]
  },
  {
   "cell_type": "code",
   "execution_count": 17,
   "metadata": {},
   "outputs": [],
   "source": [
    "def find_max (name,i_node):\n",
    "    global a\n",
    "    global spec\n",
    "    if (i_node==0):\n",
    "        spec=eval(eval('name')+str(i_node+1))\n",
    "        global p_node\n",
    "        global new_node\n",
    "        global new_node_value\n",
    "        i_node=1\n",
    "        p_node=1\n",
    "    if(spec!=None):\n",
    "        p_node=spec\n",
    "        spec=spec.r_node\n",
    "        find_max(name,i_node)\n",
    "    else:\n",
    "        print(p_node.value)"
   ]
  },
  {
   "cell_type": "code",
   "execution_count": 18,
   "metadata": {},
   "outputs": [],
   "source": [
    "def find_min (name,i_node):\n",
    "    global a\n",
    "    global spec\n",
    "    if (i_node==0):\n",
    "        spec=eval(eval('name')+str(i_node+1))\n",
    "        global p_node\n",
    "        global new_node\n",
    "        global new_node_value\n",
    "        i_node=1\n",
    "        p_node=1\n",
    "    if(spec!=None):\n",
    "        p_node=spec\n",
    "        spec=spec.l_node\n",
    "        find_min(name,i_node)\n",
    "    else:\n",
    "        print(p_node.value)"
   ]
  }
 ],
 "metadata": {
  "kernelspec": {
   "display_name": "Python 3",
   "language": "python",
   "name": "python3"
  },
  "language_info": {
   "codemirror_mode": {
    "name": "ipython",
    "version": 3
   },
   "file_extension": ".py",
   "mimetype": "text/x-python",
   "name": "python",
   "nbconvert_exporter": "python",
   "pygments_lexer": "ipython3",
   "version": "3.7.6"
  }
 },
 "nbformat": 4,
 "nbformat_minor": 4
}
