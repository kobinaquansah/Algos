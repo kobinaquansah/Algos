{
 "cells": [
  {
   "cell_type": "code",
   "execution_count": 1051,
   "metadata": {},
   "outputs": [],
   "source": [
    "class GraphU():\n",
    "    global np\n",
    "    global plt\n",
    "    import numpy as np\n",
    "    import matplotlib.pyplot as plt\n",
    "    '''\n",
    "    Function for creating undirected self\n",
    "    '''\n",
    "    \n",
    "    def __init__(self):\n",
    "        self.no_of_nodes=0\n",
    "        self.char_counter=97\n",
    "        self.nodes=[]\n",
    "    def AddNodes(self, number):\n",
    "        for i in range(number):\n",
    "            self.nodes.append(Node(chr(self.char_counter)))\n",
    "            self.char_counter+=1\n",
    "            \n",
    "    def Connect(self,mat):\n",
    "        '''\n",
    "        Connect function accepts a nested array represenging connections between \n",
    "        x and y in the form ['x':'y']. Connections can only be made between nodes\n",
    "        already placed on self \n",
    "        \n",
    "        example:\n",
    "        m=[['a','b'],['b','c'],['b','d'],['b','e'],['c','d'],['c','f'],['c','g'],['g','e'],['d','e'],['a','f']]    \n",
    "        >>> A.Connect(m)\n",
    "        \n",
    "        '''\n",
    "        names=list(map(str,A.nodes))\n",
    "        node_ords=list(map(ord,names))\n",
    "        for row in mat:\n",
    "            con_index1, con_index2 = node_ords.index(ord(row[0])), node_ords.index(ord(row[1]))\n",
    "            self.nodes[con_index1].connections.append(self.nodes[con_index2])\n",
    "            self.nodes[con_index2].connections.append(self.nodes[con_index1])\n",
    "    \n",
    "    @staticmethod\n",
    "    def CreateAdjacency(adj_dict):\n",
    "        '''\n",
    "        Create Adjacency takes accepts an adjacency list represented in dictionary form as such:\n",
    "        \n",
    "        \n",
    "        example:\n",
    "        \n",
    "        a={'a':['b','g'],'b':['d','f','g','h'],'c':['a','g','h','k','m']}        \n",
    "        A.CreateAdjacency(a)\n",
    "                \n",
    "        >>> [['a', 'c'],\n",
    "        >>> ['a', 'g'],\n",
    "        >>> ['b', 'd'],\n",
    "        >>> ['b', 'f'],\n",
    "        >>> ['b', 'g'],\n",
    "        >>> ['b', 'h'],\n",
    "        >>> ['c', 'g'],\n",
    "        >>> ['c', 'h'],\n",
    "        >>> ['c', 'k'],\n",
    "        >>> ['c', 'm']]\n",
    "        This creates an expanded adjacency list to be used by the Connect Function\n",
    "        '''\n",
    "        keys=list(adj_dict.keys())\n",
    "        values=list(adj_dict.values())\n",
    "        adj_list=[]\n",
    "        for i in range(len(keys)):\n",
    "            for j in range (len(values[i])):\n",
    "                if ([values[i][j],keys[i]] not in adj_list):\n",
    "                    adj_list.append([keys[i],values[i][j]])\n",
    "                else:\n",
    "                    pass\n",
    "        return(adj_list)\n",
    "\n",
    "    def BFSearcher(self, start):\n",
    "        names=list(map(str, A.nodes))\n",
    "        node_ords=list(map(ord,names))\n",
    "        start_ord=node_ords.index(ord(start))\n",
    "        spec=self.nodes[start_ord]\n",
    "        conns=spec.connections\n",
    "        conns_len=len(conns)\n",
    "        k=0\n",
    "        frontier=[spec]\n",
    "        visited=[]\n",
    "        frontier_len=len(frontier)\n",
    "        while frontier_len!=0:\n",
    "            spec=frontier[0]\n",
    "            visited.append(spec)\n",
    "            conns=spec.connections\n",
    "            for i in range(len(conns)):\n",
    "                if ((conns[i] not in visited) and (conns[i] not in frontier)):\n",
    "                    frontier.append(conns[i])\n",
    "                    z=len(frontier)\n",
    "                    frontier[z-1].parent=spec\n",
    "                else:\n",
    "                    pass\n",
    "            frontier.remove(frontier[0])\n",
    "            frontier_len=len(frontier)\n",
    "        return(visited)\n",
    "    \n",
    "    def Sorter(self,visited):\n",
    "        for i in range (1,len(visited)):\n",
    "            path=[[]]*len(visited)\n",
    "            i=0\n",
    "            while i<(len(visited)) :\n",
    "                spec=visited[i]\n",
    "                path[i]=[spec]\n",
    "                while (spec.parent!=None) and (spec.parent not in path[i]):\n",
    "                    path[i].append(spec.parent)\n",
    "                    spec=spec.parent\n",
    "                if spec.parent==None:\n",
    "                    i=i+1\n",
    "        for i in range(len(path)):\n",
    "            path[i].reverse()\n",
    "        return(path)\n",
    "        \n",
    "        \n",
    "    def BFS(self,start):\n",
    "        '''\n",
    "        Peforms a Breadth First Search on Undirected Graph\n",
    "        \n",
    "        example:\n",
    "        A.BFS('e')\n",
    "        \n",
    "        >>> =[e, z, n, x, o, g, w, c, f, k, u, b, i, p, y, j, v, h, l, r, q, m, t, d, a, s]\n",
    "        \n",
    "        example2:\n",
    "        A.BFS('o')\n",
    "        \n",
    "        >>> [o, s, y, p, l, e, u, i, x, c, k, d, z, n, b, r, a, f, m, t, w, g, v, j, h, q]\n",
    "        \n",
    "        '''\n",
    "        a=self.BFSearcher(start)\n",
    "        b=self.Sorter(a)\n",
    "        return(b)\n",
    "         \n",
    "    def DFSearcher(self,start):\n",
    "        names=list(map(str, A.nodes))\n",
    "        node_ords=list(map(ord,names))\n",
    "        start_ord=node_ords.index(ord(start))\n",
    "        spec=self.nodes[start_ord]\n",
    "        conns=spec.connections\n",
    "        conns_len=len(conns)\n",
    "        visited=[spec]\n",
    "        f=[spec]\n",
    "        while len(f)!=0:\n",
    "            for i in range(len(conns)):\n",
    "                if all([(conns[i] not in visited),(conns[i] not in f)]):\n",
    "                    f.append(conns[i])\n",
    "                    conns[i].parent=spec\n",
    "                else:\n",
    "                    pass\n",
    "            spec=f[-1]\n",
    "            visited.append(spec)\n",
    "            f.remove(f[-1])\n",
    "            conns=spec.connections\n",
    "        return(visited[0:(len(visited)-1)])\n",
    "    \n",
    "    def DFS(self,start):\n",
    "        a=self.DFSearcher(start)\n",
    "        b=self.Sorter(a)\n",
    "        return(b)\n",
    "           \n",
    "\n",
    "    def PotentialConnections(self):\n",
    "        i=len(self.nodes)-1\n",
    "        d=0\n",
    "        while i!=0:\n",
    "            d=d+i\n",
    "            i=i-1\n",
    "        return(d)\n",
    "    \n",
    "    def Connections(self,connectivity):\n",
    "        pot_con=self.PotentialConnections()\n",
    "        return(pot_con,round(pot_con*connectivity))\n",
    "    \n",
    "    def RandomConnections(self,connectivity):\n",
    "        pot_con, desired_connections=self.Connections(connectivity)\n",
    "        ords=list(map(ord,list(map(str, self.nodes))))\n",
    "        i=0\n",
    "        adj_list=[]\n",
    "        while i<desired_connections:\n",
    "            Node1=str(np.random.choice(np.array(self.nodes)))\n",
    "            Node2=str(np.random.choice(np.array(self.nodes)))\n",
    "            index=list(map(str,self.nodes)).index(Node1)\n",
    "            if (Node1!=Node2)and(Node2 not in list(map(str, (self.nodes[index].connections)))):\n",
    "                self.Connect([[Node1,Node2]])\n",
    "                adj_list.append([Node1,Node2])\n",
    "                i=i+1\n",
    "            else:\n",
    "                pass\n",
    "        return(r'{} connections made of {}').format(len(adj_list),pot_con)\n",
    "        del(pot_con)\n",
    "        \n",
    "    def DegreeDistribution(self):\n",
    "        DegreeDist=[len(self.nodes[i].connections) for  i in range(len(self.nodes))]\n",
    "        counts,bin_edges=np.histogram(DegreeDist)\n",
    "        plt.figure(figsize=(15,10))\n",
    "        plt.hist(DegreeDist, range=[min(bin_edges-0.5),max(bin_edges+0.5)], align='mid')\n",
    "        plt.xlabel('Degree')\n",
    "        plt.ylabel('Number of Nodes')\n",
    "        plt.show()\n",
    "\n",
    "class Node(GraphU):\n",
    "    def __init__(self,name):\n",
    "        self.name=name\n",
    "        self.connections=[]\n",
    "        self.parent=None\n",
    "    def __repr__(self):\n",
    "        return(self.name)"
   ]
  },
  {
   "cell_type": "code",
   "execution_count": 1052,
   "metadata": {},
   "outputs": [],
   "source": [
    "A=GraphU()"
   ]
  },
  {
   "cell_type": "markdown",
   "metadata": {},
   "source": [
    "<B><center>Node Addition"
   ]
  },
  {
   "cell_type": "code",
   "execution_count": 1053,
   "metadata": {},
   "outputs": [
    {
     "data": {
      "text/plain": [
       "[a, b, c, d, e, f, g, h, i, j, k, l, m, n, o, p, q, r, s, t]"
      ]
     },
     "execution_count": 1053,
     "metadata": {},
     "output_type": "execute_result"
    }
   ],
   "source": [
    "A.AddNodes(20)\n",
    "A.nodes"
   ]
  },
  {
   "cell_type": "markdown",
   "metadata": {},
   "source": [
    "<center><B> Random sampling of Connections using Acceptance/Rejection Concept"
   ]
  },
  {
   "cell_type": "markdown",
   "metadata": {},
   "source": [
    "<I><center>Function is additive (i.e. does not consider previous connections), thus it should only be used once per graph instance\n"
   ]
  },
  {
   "cell_type": "code",
   "execution_count": 1054,
   "metadata": {},
   "outputs": [
    {
     "data": {
      "text/plain": [
       "'152 connections made of 190'"
      ]
     },
     "execution_count": 1054,
     "metadata": {},
     "output_type": "execute_result"
    }
   ],
   "source": [
    "A.RandomConnections(0.8)"
   ]
  },
  {
   "cell_type": "markdown",
   "metadata": {},
   "source": [
    "<B><center>Degree Distribution Plot"
   ]
  },
  {
   "cell_type": "code",
   "execution_count": 1055,
   "metadata": {},
   "outputs": [
    {
     "data": {
      "image/png": "[encoded data removed]",
      "text/plain": [
       "<Figure size 1080x720 with 1 Axes>"
      ]
     },
     "metadata": {
      "needs_background": "light"
     },
     "output_type": "display_data"
    }
   ],
   "source": [
    "A.DegreeDistribution()"
   ]
  },
  {
   "cell_type": "markdown",
   "metadata": {},
   "source": [
    "<B><center> Connections Made Through Expanded Adjacency List"
   ]
  },
  {
   "cell_type": "code",
   "execution_count": 1056,
   "metadata": {},
   "outputs": [],
   "source": [
    "m=[['a','b'],['b','c'],['b','d'],['b','e'],['c','d'],['c','f'],['c','g'],['g','e'],['d','e'],['a','f']]    \n",
    "A.Connect(m)"
   ]
  },
  {
   "cell_type": "markdown",
   "metadata": {},
   "source": [
    "<B><center> BFS"
   ]
  },
  {
   "cell_type": "code",
   "execution_count": 1064,
   "metadata": {},
   "outputs": [
    {
     "data": {
      "text/plain": [
       "[[k],\n",
       " [k, n],\n",
       " [k, n, f],\n",
       " [k, n, m],\n",
       " [k, b],\n",
       " [k, l],\n",
       " [k, h],\n",
       " [k, o],\n",
       " [k, i],\n",
       " [k, d],\n",
       " [k, a],\n",
       " [k, r],\n",
       " [k, j],\n",
       " [k, q],\n",
       " [k, c],\n",
       " [k, e],\n",
       " [k, s],\n",
       " [k, g],\n",
       " [k, t],\n",
       " [k, p]]"
      ]
     },
     "execution_count": 1064,
     "metadata": {},
     "output_type": "execute_result"
    }
   ],
   "source": [
    "A.DFS('k')"
   ]
  },
  {
   "cell_type": "code",
   "execution_count": 1065,
   "metadata": {},
   "outputs": [],
   "source": [
    "for i in range(len(A.nodes)):\n",
    "    A.nodes[i].parent=None"
   ]
  },
  {
   "cell_type": "markdown",
   "metadata": {},
   "source": [
    "<center><B>DFS"
   ]
  },
  {
   "cell_type": "markdown",
   "metadata": {},
   "source": [
    "<B><center>Adj List Creation From Dictionary"
   ]
  },
  {
   "cell_type": "code",
   "execution_count": 235,
   "metadata": {},
   "outputs": [
    {
     "data": {
      "text/plain": [
       "[['a', 'c'],\n",
       " ['a', 'g'],\n",
       " ['b', 'd'],\n",
       " ['b', 'f'],\n",
       " ['b', 'g'],\n",
       " ['b', 'h'],\n",
       " ['c', 'g'],\n",
       " ['c', 'h'],\n",
       " ['c', 'k'],\n",
       " ['c', 'm']]"
      ]
     },
     "execution_count": 235,
     "metadata": {},
     "output_type": "execute_result"
    }
   ],
   "source": [
    "a={'a':['c','g'],'b':['d','f','g','h'],'c':['a','g','h','k','m']}\n",
    "A.CreateAdjacency(a)"
   ]
  },
  {
   "cell_type": "code",
   "execution_count": 926,
   "metadata": {},
   "outputs": [],
   "source": [
    "class GraphD():\n",
    "    global np\n",
    "    global plt\n",
    "    import numpy as np\n",
    "    import matplotlib.pyplot as plt\n",
    "    '''\n",
    "    Function for creating undirected self\n",
    "    '''\n",
    "    \n",
    "    def __init__(self):\n",
    "        self.no_of_nodes=0\n",
    "        self.char_counter=97\n",
    "        self.nodes=[]\n",
    "    def AddNodes(self, number):\n",
    "        for i in range(number):\n",
    "            self.nodes.append(Node(chr(self.char_counter)))\n",
    "            self.char_counter+=1\n",
    "            \n",
    "    def Connect(self,mat):\n",
    "        '''\n",
    "        Connect function accepts a nested array represenging connections between \n",
    "        x and y in the form ['x':'y']. Connections can only be made between nodes\n",
    "        already placed on self \n",
    "        \n",
    "        example:\n",
    "        m=[['a','b'],['b','c'],['b','d'],['b','e'],['c','d'],['c','f'],['c','g'],['g','e'],['d','e'],['a','f']]    \n",
    "        >>> A.Connect(m)\n",
    "        \n",
    "        '''\n",
    "        names=list(map(str,A.nodes))\n",
    "        node_ords=list(map(ord,names))\n",
    "        for row in mat:\n",
    "            con_index1, con_index2 = node_ords.index(ord(row[0])), node_ords.index(ord(row[1]))\n",
    "            self.nodes[con_index1].connections.append(self.nodes[con_index2])\n",
    "    \n",
    "    @staticmethod\n",
    "    def CreateAdjacency(adj_dict):\n",
    "        '''\n",
    "        Create Adjacency takes accepts an adjacency list represented in dictionary form as such:\n",
    "        \n",
    "        \n",
    "        example:\n",
    "        \n",
    "        a={'a':['b','g'],'b':['d','f','g','h'],'c':['a','g','h','k','m']}        \n",
    "        A.CreateAdjacency(a)\n",
    "                \n",
    "        >>> [['a', 'c'],\n",
    "        >>> ['a', 'g'],\n",
    "        >>> ['b', 'd'],\n",
    "        >>> ['b', 'f'],\n",
    "        >>> ['b', 'g'],\n",
    "        >>> ['b', 'h'],\n",
    "        >>> ['c', 'g'],\n",
    "        >>> ['c', 'h'],\n",
    "        >>> ['c', 'k'],\n",
    "        >>> ['c', 'm']]\n",
    "        This creates an expanded adjacency list to be used by the Connect Function\n",
    "        '''\n",
    "        keys=list(adj_dict.keys())\n",
    "        values=list(adj_dict.values())\n",
    "        adj_list=[]\n",
    "        for i in range(len(keys)):\n",
    "            for j in range (len(values[i])):\n",
    "                if ([keys[i],values[i][j]] not in adj_list):\n",
    "                    adj_list.append([keys[i],values[i][j]])\n",
    "                else:\n",
    "                    pass\n",
    "        return(adj_list)\n",
    "\n",
    "    def BFSearcher(self, start):\n",
    "        names=list(map(str, A.nodes))\n",
    "        node_ords=list(map(ord,names))\n",
    "        start_ord=node_ords.index(ord(start))\n",
    "        spec=self.nodes[start_ord]\n",
    "        conns=spec.connections\n",
    "        conns_len=len(conns)\n",
    "        k=0\n",
    "        frontier=[spec]\n",
    "        visited=[]\n",
    "        frontier_len=len(frontier)\n",
    "        while frontier_len!=0:\n",
    "            spec=frontier[0]\n",
    "            visited.append(spec)\n",
    "            conns=spec.connections\n",
    "            for i in range(len(conns)):\n",
    "                if ((conns[i] not in visited) and (conns[i] not in frontier)):\n",
    "                    frontier.append(conns[i])\n",
    "                    z=len(frontier)\n",
    "                    frontier[z-1].parent=spec\n",
    "                else:\n",
    "                    pass\n",
    "            frontier.remove(frontier[0])\n",
    "            frontier_len=len(frontier)\n",
    "        return(visited)\n",
    "    \n",
    "    def Sorter(self,visited):\n",
    "        for i in range (1,len(visited)):\n",
    "            path=[[]]*len(visited)\n",
    "            i=0\n",
    "            while i<(len(visited)):\n",
    "                spec=visited[i]\n",
    "                path[i]=[spec]\n",
    "                while spec.parent!=None:\n",
    "                    path[i].append(spec.parent)\n",
    "                    spec=spec.parent\n",
    "                if spec.parent==None:\n",
    "                    i=i+1\n",
    "        for i in range(len(path)):\n",
    "            path[i].reverse()\n",
    "        return(path)\n",
    "        \n",
    "        \n",
    "    def BFS(self,start):\n",
    "        '''\n",
    "        Peforms a Breadth First Search on Undirected Graph\n",
    "        \n",
    "        example:\n",
    "        A.BFS('e')\n",
    "        \n",
    "        >>> =[e, z, n, x, o, g, w, c, f, k, u, b, i, p, y, j, v, h, l, r, q, m, t, d, a, s]\n",
    "        \n",
    "        example2:\n",
    "        A.BFS('o')\n",
    "        \n",
    "        >>> [o, s, y, p, l, e, u, i, x, c, k, d, z, n, b, r, a, f, m, t, w, g, v, j, h, q]\n",
    "        \n",
    "        '''\n",
    "        a=self.BFSearcher(start)\n",
    "        b=self.Sorter(a)\n",
    "        return(b)\n",
    "         \n",
    "    def DFSearcher(self,start):\n",
    "        names=list(map(str, A.nodes))\n",
    "        node_ords=list(map(ord,names))\n",
    "        start_ord=node_ords.index(ord(start))\n",
    "        spec=self.nodes[start_ord]\n",
    "        conns=spec.connections\n",
    "        conns_len=len(conns)\n",
    "        visited=[spec]\n",
    "        f=[spec]\n",
    "        while len(f)!=0:\n",
    "            for i in range(len(conns)):\n",
    "                if all([(conns[i] not in visited),(conns[i] not in f)]):\n",
    "                    f.append(conns[i])\n",
    "                    conns[i].parent=spec\n",
    "                else:\n",
    "                    pass\n",
    "            spec=f[-1]\n",
    "            visited.append(spec)\n",
    "            f.remove(f[-1])\n",
    "            conns=spec.connections\n",
    "        return(visited)\n",
    "    \n",
    "    def DFS(self,start):\n",
    "        a=self.DFSearcher(start)\n",
    "        b=self.Sorter(a)\n",
    "        return(b)\n",
    "           \n",
    "\n",
    "    def PotentialConnections(self):\n",
    "        i=len(self.nodes)-1\n",
    "        d=0\n",
    "        while i!=0:\n",
    "            d=d+i\n",
    "            i=i-1\n",
    "        return(d)\n",
    "    \n",
    "    def Connections(self,connectivity):\n",
    "        pot_con=self.PotentialConnections()\n",
    "        return(pot_con,round(pot_con*connectivity))\n",
    "    \n",
    "    def RandomConnections(self,connectivity):\n",
    "        pot_con, desired_connections=self.Connections(connectivity)\n",
    "        ords=list(map(ord,list(map(str, self.nodes))))\n",
    "        i=0\n",
    "        adj_list=[]\n",
    "        while i<desired_connections:\n",
    "            Node1=str(np.random.choice(np.array(self.nodes)))\n",
    "            Node2=str(np.random.choice(np.array(self.nodes)))\n",
    "            index=list(map(str,self.nodes)).index(Node1)\n",
    "            if (Node1!=Node2)and(Node2 not in list(map(str, (self.nodes[index].connections)))):\n",
    "                self.Connect([[Node1,Node2]])\n",
    "                adj_list.append([Node1,Node2])\n",
    "                i=i+1\n",
    "            else:\n",
    "                pass\n",
    "        return(r'{} connections made of {}').format(len(adj_list),pot_con)\n",
    "        del(pot_con)\n",
    "        \n",
    "    def DegreeDistribution(self):\n",
    "        DegreeDist=[len(self.nodes[i].connections) for  i in range(len(self.nodes))]\n",
    "        counts,bin_edges=np.histogram(DegreeDist)\n",
    "        plt.figure(figsize=(15,10))\n",
    "        plt.hist(DegreeDist, range=[min(bin_edges-0.5),max(bin_edges+0.5)], align='mid')\n",
    "        plt.xlabel('Degree')\n",
    "        plt.ylabel('Number of Nodes')\n",
    "        plt.show()\n",
    "\n",
    "class Node(GraphD):\n",
    "    def __init__(self,name):\n",
    "        self.name=name\n",
    "        self.connections=[]\n",
    "        self.parent=None\n",
    "    def __repr__(self):\n",
    "        return(self.name)"
   ]
  },
  {
   "cell_type": "code",
   "execution_count": 927,
   "metadata": {},
   "outputs": [
    {
     "data": {
      "text/plain": [
       "'57 connections made of 190'"
      ]
     },
     "execution_count": 927,
     "metadata": {},
     "output_type": "execute_result"
    }
   ],
   "source": [
    "a={'a':['c','g'],'b':['d','f','g','h'],'c':['a','g','h','k','m','p'],'g':['b'],'p':['c'],'p':['c']}\n",
    "\n",
    "A=GraphD()\n",
    "\n",
    "A.AddNodes(20)\n",
    "\n",
    "A.RandomConnections(0.3)"
   ]
  },
  {
   "cell_type": "code",
   "execution_count": 929,
   "metadata": {},
   "outputs": [
    {
     "data": {
      "text/plain": [
       "208"
      ]
     },
     "execution_count": 929,
     "metadata": {},
     "output_type": "execute_result"
    }
   ],
   "source": [
    "sys.getsizeof(A.BFS('a'))"
   ]
  },
  {
   "cell_type": "code",
   "execution_count": 930,
   "metadata": {},
   "outputs": [
    {
     "data": {
      "text/plain": [
       "216"
      ]
     },
     "execution_count": 930,
     "metadata": {},
     "output_type": "execute_result"
    }
   ],
   "source": [
    "sys.getsizeof(A.DFS('a'))"
   ]
  },
  {
   "cell_type": "code",
   "execution_count": null,
   "metadata": {},
   "outputs": [],
   "source": []
  }
 ],
 "metadata": {
  "kernelspec": {
   "display_name": "Python 3",
   "language": "python",
   "name": "python3"
  },
  "language_info": {
   "codemirror_mode": {
    "name": "ipython",
    "version": 3
   },
   "file_extension": ".py",
   "mimetype": "text/x-python",
   "name": "python",
   "nbconvert_exporter": "python",
   "pygments_lexer": "ipython3",
   "version": "3.7.4"
  }
 },
 "nbformat": 4,
 "nbformat_minor": 2
}
