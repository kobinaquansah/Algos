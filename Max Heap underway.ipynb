{
 "cells": [
  {
   "cell_type": "code",
   "execution_count": 1,
   "metadata": {},
   "outputs": [],
   "source": [
    "#Create bst_node class\n",
    "class heap_node:\n",
    "    def __init__(self, value, name, i_node):\n",
    "        self.value = value\n",
    "        self.name = name\n",
    "        self.i_node = i_node\n",
    "\n",
    "def start_heap(value, name, i_node):\n",
    "    global new_node\n",
    "    name=eval('name')\n",
    "    new_node_name=eval('name+str(1)')\n",
    "    new_node=heap_node(eval('value'),new_node_name,1)\n",
    "    exec(str(new_node_name) + '=new_node', globals())\n",
    "    del new_node\n",
    "start_heap(50,'a',1)\n",
    "a1.value\n",
    "\n",
    "def heap_insert(value, name):\n",
    "    i_node=1\n",
    "    global spec\n",
    "    heap_compare(value, name, i_node)\n",
    "\n",
    "#provides index of position to place next node in binary search tree \n",
    "def heap_compare(value, name, i_node):\n",
    "    global spec\n",
    "    if i_node==1:\n",
    "        spec=eval(name+str(i_node)+'.value')\n",
    "    else:\n",
    "        None\n",
    "    heap_compare_(value,name,i_node);"
   ]
  },
  {
   "cell_type": "code",
   "execution_count": 2,
   "metadata": {},
   "outputs": [],
   "source": [
    "def heap_compare_(value,name, i_node):\n",
    "    global spec\n",
    "    i_node=i_node+1\n",
    "    try:\n",
    "        spec=eval(name+str(i_node)+'.value')\n",
    "        heap_compare_(value, name, i_node)\n",
    "    except:\n",
    "        return_value(value, name, i_node)\n",
    "        #print(i_node)\n",
    "        max_heapify(value,name,i_node)\n",
    "\n",
    "def return_value(value, name, i_node):\n",
    "    global new_node\n",
    "    global new_node_name\n",
    "    i_node=str(i_node)\n",
    "    new_node_name=eval('name')+str(i_node)\n",
    "    new_node=heap_node(value, str(new_node_name), i_node)\n",
    "    exec(str(new_node_name) + '=new_node', globals())"
   ]
  },
  {
   "cell_type": "code",
   "execution_count": 3,
   "metadata": {},
   "outputs": [],
   "source": [
    "def max_heapify(value,name,i_node):    \n",
    "    if i_node!=1:\n",
    "        if (i_node)%2==0:\n",
    "            print(i_node)\n",
    "            if(eval(name+str(i_node)+'.value'))>(eval(name+str(int(i_node/2))+'.value')):\n",
    "                s1=(eval(name+str(int(i_node))+'.value'))\n",
    "                i_node=i_node\n",
    "                value=eval(name+str(int(i_node/2))+'.value')\n",
    "                print('smaller value goes down to' + str(i_node))\n",
    "                return_value(value, name, i_node)\n",
    "                i_node=int(i_node/2)\n",
    "                value=s1\n",
    "                return_value(value, name, i_node)\n",
    "                print('larger value goes up to' + str(i_node))\n",
    "                i_node=i_node\n",
    "                max_heapify(value,name,i_node)\n",
    "            else:\n",
    "                None\n",
    "\n",
    "        elif (i_node)%2==1:\n",
    "            if(eval(name+str(i_node)+'.value'))>(eval(name+str(int((i_node-1)/2))+'.value')):\n",
    "                s1=(eval(name+str(int(i_node))+'.value'))\n",
    "                i_node=i_node\n",
    "                value=eval(name+str(int((i_node-1)/2))+'.value')\n",
    "                print('smaller value goes down to' + str(i_node))\n",
    "                return_value(value, name, i_node)\n",
    "                i_node=int((i_node-1)/2)\n",
    "                value=s1\n",
    "                return_value(value, name, i_node)\n",
    "                print('larger value goes up to' + str(i_node))\n",
    "                i_node=i_node\n",
    "                max_heapify(value,name,i_node)\n",
    "            else:\n",
    "                None\n",
    "    else:\n",
    "        None"
   ]
  },
  {
   "cell_type": "code",
   "execution_count": 4,
   "metadata": {},
   "outputs": [
    {
     "name": "stdout",
     "output_type": "stream",
     "text": [
      "2\n"
     ]
    }
   ],
   "source": [
    "heap_insert(12,'a')"
   ]
  },
  {
   "cell_type": "code",
   "execution_count": null,
   "metadata": {},
   "outputs": [],
   "source": [
    "#Unfinished Code Below"
   ]
  },
  {
   "cell_type": "code",
   "execution_count": null,
   "metadata": {},
   "outputs": [],
   "source": [
    "def bst_insert(value, name):\n",
    "    i_node=1\n",
    "    global spec\n",
    "    bst_place(value, name, i_node)"
   ]
  },
  {
   "cell_type": "code",
   "execution_count": null,
   "metadata": {},
   "outputs": [],
   "source": [
    "#provides index of position to place next node in binary search tree \n",
    "def bst_place(value, name, i_node):\n",
    "    global spec\n",
    "    if i_node==1:\n",
    "        print('was1')\n",
    "        spec=eval(name+str(i_node)+'.value')\n",
    "    else:\n",
    "        None\n",
    "    bst_place_(value,name,i_node)"
   ]
  },
  {
   "cell_type": "code",
   "execution_count": null,
   "metadata": {},
   "outputs": [],
   "source": [
    "def bst_place_(value,name, i_node):\n",
    "    global spec\n",
    "    try:\n",
    "        spec=eval(name+str(i_node)+'.value')\n",
    "        i_node=i_node+1\n",
    "        bst_place_(value, name, i_node)\n",
    "    except:\n",
    "         return_value(value, name, i_node)\n",
    "def return_value(value, name, i_node):\n",
    "    global new_node\n",
    "    global new_node_name\n",
    "    i_node=str(i_node)\n",
    "    new_node_name=eval('name')+str(i_node)\n",
    "    new_node=bst_node(value, str(new_node_name), i_node)\n",
    "    exec(str(new_node_name) + '=new_node', globals())"
   ]
  },
  {
   "cell_type": "code",
   "execution_count": null,
   "metadata": {},
   "outputs": [],
   "source": [
    "#provides index of position to place next node in binary search tree \n",
    "def bst_compare(value, name, i_node):\n",
    "    global spec\n",
    "    if i_node==1:\n",
    "        print('was1')\n",
    "        spec=eval(name+str(i_node)+'.value')\n",
    "    else:\n",
    "        None\n",
    "    bst_compare_(value,name,i_node)"
   ]
  },
  {
   "cell_type": "code",
   "execution_count": null,
   "metadata": {},
   "outputs": [],
   "source": [
    "def bst_compare_(value,name, i_node):\n",
    "    global spec\n",
    "    if value< spec:\n",
    "        i_node=i_node*2\n",
    "        try:\n",
    "            spec=eval(name+str(i_node)+'.value')\n",
    "            bst_compare_(value, name, i_node)\n",
    "        except:\n",
    "             return_value(value, name, i_node)\n",
    "    if value > spec:\n",
    "        i_node=i_node*2+1\n",
    "        try:\n",
    "            spec=eval(name+str(i_node)+'.value')\n",
    "            bst_compare_(value, name, i_node)\n",
    "        except:\n",
    "            return_value(value, name, i_node)\n",
    "\n",
    "def return_value(value, name, i_node):\n",
    "    global new_node\n",
    "    global new_node_name\n",
    "    i_node=str(i_node)\n",
    "    new_node_name=eval('name')+str(i_node)\n",
    "    new_node=bst_node(value, str(new_node_name), i_node)\n",
    "    exec(str(new_node_name) + '=new_node', globals())\n",
    "\n",
    "def bst_insert(value, name):\n",
    "    i_node=1\n",
    "    global spec\n",
    "    bst_compare(value, name, i_node)"
   ]
  }
 ],
 "metadata": {
  "kernelspec": {
   "display_name": "Python 3",
   "language": "python",
   "name": "python3"
  },
  "language_info": {
   "codemirror_mode": {
    "name": "ipython",
    "version": 3
   },
   "file_extension": ".py",
   "mimetype": "text/x-python",
   "name": "python",
   "nbconvert_exporter": "python",
   "pygments_lexer": "ipython3",
   "version": "3.7.6"
  }
 },
 "nbformat": 4,
 "nbformat_minor": 2
}
