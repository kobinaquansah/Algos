{
 "cells": [
  {
   "cell_type": "code",
   "execution_count": null,
   "metadata": {},
   "outputs": [],
   "source": [
    "words1=[\"eat\", \"tea\", \"tan\", \"ate\", \"nat\", \"bat\",\"fish\"]\n",
    "words2=[\"apt\",\"pat\",\"tap\",\"are\",\"ear\",\"era\",\"arm\",\"mar\",\"ram\",\"art\",\"rat\",\"tar\",\"asp\",\"pas\",\"sap\",\"spa\",\"ate\",\"eat\",\"eta\",\"tea\",\"bat\",\"stab\",\"tab\",\"now\",\"own\",\"won\",\"opt\",\"pot\",\"top\",\"own\",\"now\"]\n",
    "words = words1 + words2"
   ]
  },
  {
   "cell_type": "markdown",
   "metadata": {},
   "source": [
    " <center> Word Sampling"
   ]
  },
  {
   "cell_type": "code",
   "execution_count": null,
   "metadata": {},
   "outputs": [],
   "source": [
    "import numpy as np\n",
    "words_len=len(words)\n",
    "new_words=[]\n",
    "while words_len!=0:\n",
    "    print(words_len)\n",
    "    rand_word=np.random.randint(0,words_len)\n",
    "    new_words.append(words[rand_word])\n",
    "    words_len=words_len-1\n",
    "    words.remove(words[rand_word])\n",
    "words=new_words"
   ]
  },
  {
   "cell_type": "markdown",
   "metadata": {},
   "source": [
    "<center> Hashlist Class Creation"
   ]
  },
  {
   "cell_type": "code",
   "execution_count": null,
   "metadata": {},
   "outputs": [],
   "source": [
    "class hashlist():\n",
    "    val_list=[]\n",
    "    word_last=[]\n",
    "    def __init__ (self,worded,value):\n",
    "        prev_word=None\n",
    "        self.worded=worded\n",
    "        self.value=value\n",
    "        self.prev_word=prev_word\n",
    "        \n",
    "    def add_to_list(self):\n",
    "        if hashlist.val_list==[]:\n",
    "            hashlist.val_list=[self.value]\n",
    "            hashlist.word_last=[self]\n",
    "        else:\n",
    "            i=0\n",
    "            while self.value!=hashlist.val_list[i]:\n",
    "                i=i+1\n",
    "                if i==len(hashlist.val_list):\n",
    "                    hashlist.val_list.append(self.value)\n",
    "                    hashlist.word_last.append(self)\n",
    "                    break\n",
    "            else:\n",
    "                self.prev_word=hashlist.word_last[i]\n",
    "                hashlist.word_last[i]=self"
   ]
  },
  {
   "cell_type": "markdown",
   "metadata": {},
   "source": [
    "<B><Center> Hash Operations"
   ]
  },
  {
   "cell_type": "code",
   "execution_count": 4,
   "metadata": {},
   "outputs": [
    {
     "data": {
      "text/plain": [
       "[['bat', 'bat', 'tab'],\n",
       " ['eat', 'ate', 'eat', 'tea', 'eta', 'ate', 'tea'],\n",
       " ['spa', 'sap', 'pas', 'asp'],\n",
       " ['tan', 'nat'],\n",
       " ['pot', 'top', 'opt'],\n",
       " ['won', 'own', 'now', 'now', 'own'],\n",
       " ['pat', 'tap', 'apt'],\n",
       " ['era', 'ear', 'are'],\n",
       " ['stab', 'fish'],\n",
       " ['mar', 'ram', 'arm'],\n",
       " ['tar', 'art', 'rat']]"
      ]
     },
     "execution_count": 4,
     "metadata": {},
     "output_type": "execute_result"
    }
   ],
   "source": [
    "hashval=int()\n",
    "for word in words:\n",
    "    for letter in word:\n",
    "        hashval+=ord(letter)\n",
    "        hashval=hashval%50\n",
    "    hashlist.add_to_list(hashlist(str(word),hashval))\n",
    "    hashval=0\n",
    "aux_arranger=[]\n",
    "anagram_list=[]\n",
    "for i in range(len(hashlist.word_last)):\n",
    "    spec_word=hashlist.word_last[i]\n",
    "    while spec_word!=None:\n",
    "        aux_arranger.append(spec_word.worded)\n",
    "        spec_word=spec_word.prev_word\n",
    "    anagram_list.append(aux_arranger)\n",
    "    aux_arranger=[]\n",
    "anagram_list"
   ]
  },
  {
   "cell_type": "markdown",
   "metadata": {},
   "source": [
    "<I> Different Hash Values were investigated and a hash value of 50 gave the least collision of values. This investigation was necessary because no elementwise confirmation of anagram incidence was performed"
   ]
  }
 ],
 "metadata": {
  "kernelspec": {
   "display_name": "Python 3",
   "language": "python",
   "name": "python3"
  },
  "language_info": {
   "codemirror_mode": {
    "name": "ipython",
    "version": 3
   },
   "file_extension": ".py",
   "mimetype": "text/x-python",
   "name": "python",
   "nbconvert_exporter": "python",
   "pygments_lexer": "ipython3",
   "version": "3.7.4"
  }
 },
 "nbformat": 4,
 "nbformat_minor": 2
}
